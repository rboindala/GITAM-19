{
 "cells": [
  {
   "cell_type": "code",
   "execution_count": 14,
   "metadata": {},
   "outputs": [
    {
     "name": "stdout",
     "output_type": "stream",
     "text": [
      "enter string1889\n",
      "16\n"
     ]
    }
   ],
   "source": [
    "n=input('enter string')\n",
    "i=0\n",
    "\n",
    "Sum=0\n",
    "while i < len(n):\n",
    "        if ord(n[i])>=48 and ord(n[i]) <=57:\n",
    "            if ord(n[i])%2==0:\n",
    "                Sum= Sum +(ord(n[i])-48)\n",
    "                #print(Sum)\n",
    "                #i=i+1\n",
    "            i=i+1\n",
    "        else:\n",
    "            i+=1\n",
    "print(Sum)            "
   ]
  },
  {
   "cell_type": "markdown",
   "metadata": {},
   "source": []
  }
 ],
 "metadata": {
  "kernelspec": {
   "display_name": "Python 3",
   "language": "python",
   "name": "python3"
  },
  "language_info": {
   "codemirror_mode": {
    "name": "ipython",
    "version": 3
   },
   "file_extension": ".py",
   "mimetype": "text/x-python",
   "name": "python",
   "nbconvert_exporter": "python",
   "pygments_lexer": "ipython3",
   "version": "3.7.3"
  }
 },
 "nbformat": 4,
 "nbformat_minor": 2
}
