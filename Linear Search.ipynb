{
 "cells": [
  {
   "cell_type": "code",
   "execution_count": null,
   "metadata": {},
   "outputs": [],
   "source": [
    "def Linear_search(a,t):\n",
    "    f=0\n",
    "    i=1\n",
    "    while i<b:\n",
    "        if a[i]==t:\n",
    "            print(\"!\"*i)\n",
    "        else:\n",
    "            print(\"not found\")\n",
    "b=int(input(\"enter size\"))\n",
    "a=[]\n",
    "while b!=0:\n",
    "    a.append(input(\"enter number\"))\n",
    "    print(a)\n",
    "    b-=1\n",
    "t=int(input('enter number to find'))    \n",
    "    \n",
    "\n",
    "Linear_search(a,t)"
   ]
  },
  {
   "cell_type": "code",
   "execution_count": 8,
   "metadata": {},
   "outputs": [
    {
     "name": "stdout",
     "output_type": "stream",
     "text": [
      "enter size8\n",
      "enter number12345678\n",
      "[1, 2, 3, 4, 5, 6, 7, 8]\n"
     ]
    }
   ],
   "source": [
    "x=int(input(\"enter size\"))\n",
    "N=int(input(\"enter number\"))\n",
    "t=0\n",
    "li=[]\n",
    "N1=N\n",
    "b=x\n",
    "while b!=0:\n",
    "    li.insert(t,N1%10)\n",
    "    N1=N1//10\n",
    "    b-=1\n",
    "print(li)"
   ]
  },
  {
   "cell_type": "code",
   "execution_count": null,
   "metadata": {},
   "outputs": [],
   "source": []
  }
 ],
 "metadata": {
  "kernelspec": {
   "display_name": "Python 3",
   "language": "python",
   "name": "python3"
  },
  "language_info": {
   "codemirror_mode": {
    "name": "ipython",
    "version": 3
   },
   "file_extension": ".py",
   "mimetype": "text/x-python",
   "name": "python",
   "nbconvert_exporter": "python",
   "pygments_lexer": "ipython3",
   "version": "3.7.3"
  }
 },
 "nbformat": 4,
 "nbformat_minor": 2
}
