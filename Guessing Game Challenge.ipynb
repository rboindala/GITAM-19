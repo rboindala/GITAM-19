{
 "cells": [
  {
   "cell_type": "code",
   "execution_count": null,
   "metadata": {},
   "outputs": [
    {
     "name": "stdout",
     "output_type": "stream",
     "text": [
      "Guess the number I picked\n",
      "50\n",
      "COLD!\n",
      "guess again30\n",
      "WARMER!\n",
      "guess again23\n",
      "COLDER!\n",
      "guess again31\n",
      "COLDER!\n",
      "guess again28\n",
      "You guessed it!\n",
      "It took you 5 tries to guess it\n"
     ]
    }
   ],
   "source": [
    "#intial inputs\n",
    "import random\n",
    "mylist=[num for num in range(1,101)]\n",
    "n=random.choice(mylist)\n",
    "p=int(input(\"Guess the number I picked\\n\"))\n",
    "c=0\n",
    "c+=1\n",
    "if p<1 or p>100:\n",
    "    print (\"out of bounds\")\n",
    "if p==n:\n",
    "    print(\"You guessed it on your first try!\")\n",
    "    \n",
    "\n",
    "if abs(p-n)<=10:\n",
    "    print(\"WARM!\")\n",
    "else:\n",
    "    print(\"COLD!\")\n",
    "p1=0\n",
    "while p1!=n:\n",
    "    p1=int(input(\"guess again\"))\n",
    "    c+=1\n",
    "    if p1==n:\n",
    "        break\n",
    "    \n",
    "    \n",
    "    else:\n",
    "        if (abs(p1-n))>(abs(p-n)):\n",
    "            print(\"COLDER!\")\n",
    "        else:\n",
    "            print(\"WARMER!\")\n",
    "            p=p1\n",
    "\n",
    "print(\"You guessed it!\")\n",
    "print(\"It took you\",c,\"tries to guess it\")\n",
    "p1=0\n",
    "while p1!=n:\n",
    "    p1=int(input(\"guess again\"))\n",
    "    c+=1\n",
    "    if p1==n:\n",
    "        break\n",
    "    \n",
    "    \n",
    "    else:\n",
    "        if (abs(p1-n))>(abs(p-n)):\n",
    "            print(\"COLDER!\")\n",
    "        else:\n",
    "            print(\"WARMER!\")\n",
    "            p=p1\n",
    "\n",
    "print(\"You guessed it!\")\n",
    "print(\"It took you\",c,\"tries to guess it\")\n"
   ]
  },
  {
   "cell_type": "markdown",
   "metadata": {},
   "source": []
  }
 ],
 "metadata": {
  "kernelspec": {
   "display_name": "Python 3",
   "language": "python",
   "name": "python3"
  },
  "language_info": {
   "codemirror_mode": {
    "name": "ipython",
    "version": 3
   },
   "file_extension": ".py",
   "mimetype": "text/x-python",
   "name": "python",
   "nbconvert_exporter": "python",
   "pygments_lexer": "ipython3",
   "version": "3.8.5"
  }
 },
 "nbformat": 4,
 "nbformat_minor": 4
}
