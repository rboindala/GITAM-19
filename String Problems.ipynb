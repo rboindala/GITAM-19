{
 "cells": [
  {
   "cell_type": "code",
   "execution_count": 3,
   "metadata": {},
   "outputs": [
    {
     "name": "stdout",
     "output_type": "stream",
     "text": [
      "enter a wordjalaj\n",
      "palindrome\n"
     ]
    }
   ],
   "source": [
    "def isP(s):\n",
    "   \n",
    "    if s==s[::-1]:\n",
    "        print(\"palindrome\")\n",
    "        \n",
    "    else:\n",
    "        print(\"not\")\n",
    "        \n",
    "s=input(\"enter a word\")\n",
    "isP(s)\n"
   ]
  },
  {
   "cell_type": "code",
   "execution_count": 14,
   "metadata": {},
   "outputs": [
    {
     "name": "stdout",
     "output_type": "stream",
     "text": [
      "enter a wordAbbA\n",
      "0\n"
     ]
    },
    {
     "data": {
      "text/plain": [
       "0"
      ]
     },
     "execution_count": 14,
     "metadata": {},
     "output_type": "execute_result"
    }
   ],
   "source": [
    "def cupp(n):\n",
    "    i=0\n",
    "    sum=0\n",
    "    while i < len(n):\n",
    "        if ord(n[i])>=95 and ord(n[i])<=65:\n",
    "            sum=sum +1\n",
    "            i+=1\n",
    "        else:\n",
    "            \n",
    "            i+=1\n",
    "    \n",
    "    \n",
    "    \n",
    "    \n",
    "    return sum\n",
    "print(cupp(n=input('enter a word')))\n",
    "cupp(n)"
   ]
  },
  {
   "cell_type": "code",
   "execution_count": 10,
   "metadata": {},
   "outputs": [
    {
     "ename": "NameError",
     "evalue": "name 'i' is not defined",
     "output_type": "error",
     "traceback": [
      "\u001b[1;31m---------------------------------------------------------------------------\u001b[0m",
      "\u001b[1;31mNameError\u001b[0m                                 Traceback (most recent call last)",
      "\u001b[1;32m<ipython-input-10-3b184248ad5a>\u001b[0m in \u001b[0;36m<module>\u001b[1;34m\u001b[0m\n\u001b[1;32m----> 1\u001b[1;33m \u001b[0mprint\u001b[0m\u001b[1;33m(\u001b[0m\u001b[0mi\u001b[0m\u001b[1;33m)\u001b[0m\u001b[1;33m\u001b[0m\u001b[1;33m\u001b[0m\u001b[0m\n\u001b[0m",
      "\u001b[1;31mNameError\u001b[0m: name 'i' is not defined"
     ]
    }
   ],
   "source": [
    "print(i)"
   ]
  },
  {
   "cell_type": "code",
   "execution_count": null,
   "metadata": {},
   "outputs": [],
   "source": [
    "def cupp(n):\n",
    "    i=0\n",
    "    sum=0\n",
    "    while i < len(n):\n",
    "        if ord(n[i])<65:\n",
    "            print(n[i])\n",
    "            i+=1\n",
    "            \n",
    "        else:\n",
    "            \n",
    "            i+=1\n",
    "    \n",
    "    \n",
    "    \n",
    "    \n",
    "    \n",
    "print(cupp(n=input('enter a word')))\n",
    "cupp(n)"
   ]
  },
  {
   "cell_type": "code",
   "execution_count": 3,
   "metadata": {},
   "outputs": [],
   "source": [
    "def sumofdigits(str):\n",
    "    lst = list(str)\n",
    "    for x in range(len(lst)):\n",
    "        if ord(lst[x]) >= 48 and ord(lst[x]) <= 57:\n",
    "            sum= sum  + ord(lst[x])-48\n",
    "            \n",
    "        return sum\n",
    "    sumofdigits(\"Application 1889\")\n",
    "    print(sum)"
   ]
  },
  {
   "cell_type": "code",
   "execution_count": null,
   "metadata": {},
   "outputs": [],
   "source": []
  }
 ],
 "metadata": {
  "kernelspec": {
   "display_name": "Python 3",
   "language": "python",
   "name": "python3"
  },
  "language_info": {
   "codemirror_mode": {
    "name": "ipython",
    "version": 3
   },
   "file_extension": ".py",
   "mimetype": "text/x-python",
   "name": "python",
   "nbconvert_exporter": "python",
   "pygments_lexer": "ipython3",
   "version": "3.7.3"
  }
 },
 "nbformat": 4,
 "nbformat_minor": 2
}
