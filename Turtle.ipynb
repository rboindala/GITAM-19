{
 "cells": [
  {
   "cell_type": "code",
   "execution_count": 4,
   "metadata": {},
   "outputs": [],
   "source": [
    "from turtle import *\n",
    "color('black', 'red')\n",
    "begin_fill()\n",
    "while True:\n",
    "    forward(200)\n",
    "    left(170)\n",
    "    if abs(pos()) < 1:\n",
    "        break\n",
    "end_fill()\n",
    "done()"
   ]
  },
  {
   "cell_type": "code",
   "execution_count": null,
   "metadata": {},
   "outputs": [],
   "source": [
    "from turtle import *\n",
    "a1= tt.turtle()\n",
    "\n",
    "colors=['red','green','yellow','orange','blue','purple']\n",
    "dot_d=10\n",
    "width=10\n",
    "height=10\n",
    "\n",
    "a1.pump()\n"
   ]
  }
 ],
 "metadata": {
  "kernelspec": {
   "display_name": "Python 3",
   "language": "python",
   "name": "python3"
  },
  "language_info": {
   "codemirror_mode": {
    "name": "ipython",
    "version": 3
   },
   "file_extension": ".py",
   "mimetype": "text/x-python",
   "name": "python",
   "nbconvert_exporter": "python",
   "pygments_lexer": "ipython3",
   "version": "3.7.3"
  }
 },
 "nbformat": 4,
 "nbformat_minor": 2
}
