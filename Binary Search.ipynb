{
 "cells": [
  {
   "cell_type": "code",
   "execution_count": null,
   "metadata": {
    "scrolled": false
   },
   "outputs": [],
   "source": [
    "S=int(input(\"enter the size\"))\n",
    "rig=0\n",
    "lef=S\n",
    "mid=((lef+rig)//2)\n",
    "i=S\n",
    "a=0\n",
    "y=1\n",
    "lst=[]\n",
    "while i!=0:\n",
    "    lst.append(int(input('enter num')))\n",
    "    i-=1\n",
    "T =(int(input('enter the element to be searched')))\n",
    "\n",
    "\n",
    "while y!=0:\n",
    "    \n",
    "    if lst[mid]==T:\n",
    "        print('found in {}'.format(i))\n",
    "        y=0\n",
    "    \n",
    "    elif lst[mid]<T:\n",
    "        while a!=lef:\n",
    "            a=mid+1\n",
    "            if lst[a]==T:\n",
    "                print('element found {}'.format(a))\n",
    "                a=lef\n",
    "                y=0\n",
    "            \n",
    "    else:\n",
    "        a=mid\n",
    "        while a!=0:\n",
    "            if lst[a]==T:\n",
    "                print('found at {}'.format(a))\n",
    "                a=0\n",
    "                y=0\n",
    "            a-=1"
   ]
  },
  {
   "cell_type": "code",
   "execution_count": null,
   "metadata": {},
   "outputs": [],
   "source": []
  }
 ],
 "metadata": {
  "kernelspec": {
   "display_name": "Python 3",
   "language": "python",
   "name": "python3"
  },
  "language_info": {
   "codemirror_mode": {
    "name": "ipython",
    "version": 3
   },
   "file_extension": ".py",
   "mimetype": "text/x-python",
   "name": "python",
   "nbconvert_exporter": "python",
   "pygments_lexer": "ipython3",
   "version": "3.7.3"
  }
 },
 "nbformat": 4,
 "nbformat_minor": 2
}
